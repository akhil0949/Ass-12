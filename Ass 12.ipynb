{
 "cells": [
  {
   "cell_type": "code",
   "execution_count": null,
   "id": "1e335647",
   "metadata": {},
   "outputs": [],
   "source": [
    "1. Write a Python Program to Display Fibonacci Sequence Using Recursion?\n",
    "Ans)\n",
    "def recursive_Fibonacci(n):\n",
    "    if n<=1:\n",
    "        return n\n",
    "    else:\n",
    "        return(recursive_Fibonacci(n-1) + recursive_Fibonacci(n-2))\n",
    "n_terms = 10\n",
    "if n_terms <= 0:\n",
    "    print('please provide positive number:')\n",
    "else:\n",
    "    print('the feb series is :')\n",
    "    for i in range(n_terms):\n",
    "        print(recursive_Fibonacci(i))"
   ]
  },
  {
   "cell_type": "code",
   "execution_count": null,
   "id": "f91d339e",
   "metadata": {},
   "outputs": [],
   "source": [
    "2. Write a Python Program to Find Factorial of Number Using Recursion?\n",
    "Ans)\n",
    "def Recursive_factorial(n):\n",
    "    factorial = 1\n",
    "    for i in range(1,n+1):\n",
    "        factorial = factorial * i\n",
    "    return factorial\n",
    "n_term = 6\n",
    "if n_term <= 0:\n",
    "    print('please enter a positive number:')\n",
    "else:\n",
    "    print(Recursive_factorial(n_term))"
   ]
  },
  {
   "cell_type": "code",
   "execution_count": null,
   "id": "44d6b84b",
   "metadata": {},
   "outputs": [],
   "source": [
    "3. Write a Python Program to calculate your Body Mass Index?\n",
    "Ans)\n",
    "height = int(input(\"enter your height:\"))\n",
    "weight = int(input(\"enter your weight:\"))\n",
    "height = height * height\n",
    "BMI = weight / height\n",
    "print(BMI)"
   ]
  },
  {
   "cell_type": "code",
   "execution_count": null,
   "id": "b1111266",
   "metadata": {},
   "outputs": [],
   "source": [
    "4. Write a Python Program to calculate the natural logarithm of any number?\n",
    "Ans)\n",
    "import math\n",
    "n = int(input(\"enter any number\"))\n",
    "math.log(n)"
   ]
  },
  {
   "cell_type": "code",
   "execution_count": null,
   "id": "a7bd6f76",
   "metadata": {},
   "outputs": [],
   "source": [
    "5. Write a Python Program for cube sum of first n natural numbers?\n",
    "Ans)\n",
    "n = int(input(\"enter a natural number:\"))\n",
    "sum = 0\n",
    "for i in range(1,n+1):\n",
    "    sum+= i**3\n",
    "print(sum)"
   ]
  }
 ],
 "metadata": {
  "kernelspec": {
   "display_name": "Python 3",
   "language": "python",
   "name": "python3"
  },
  "language_info": {
   "codemirror_mode": {
    "name": "ipython",
    "version": 3
   },
   "file_extension": ".py",
   "mimetype": "text/x-python",
   "name": "python",
   "nbconvert_exporter": "python",
   "pygments_lexer": "ipython3",
   "version": "3.6.13"
  }
 },
 "nbformat": 4,
 "nbformat_minor": 5
}
